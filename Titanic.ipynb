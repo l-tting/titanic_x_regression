{
  "nbformat": 4,
  "nbformat_minor": 0,
  "metadata": {
    "colab": {
      "provenance": [],
      "authorship_tag": "ABX9TyN5AOCklYHE7qjZhsgza1G1",
      "include_colab_link": true
    },
    "kernelspec": {
      "name": "python3",
      "display_name": "Python 3"
    },
    "language_info": {
      "name": "python"
    }
  },
  "cells": [
    {
      "cell_type": "markdown",
      "metadata": {
        "id": "view-in-github",
        "colab_type": "text"
      },
      "source": [
        "<a href=\"https://colab.research.google.com/github/l-tting/titanic_x_regression/blob/main/Titanic.ipynb\" target=\"_parent\"><img src=\"https://colab.research.google.com/assets/colab-badge.svg\" alt=\"Open In Colab\"/></a>"
      ]
    },
    {
      "cell_type": "code",
      "execution_count": 12,
      "metadata": {
        "id": "plZ4lUF3316B"
      },
      "outputs": [],
      "source": [
        "import seaborn as sns\n",
        "import pandas as pd"
      ]
    },
    {
      "cell_type": "markdown",
      "source": [
        "**1. Data Generation**\n",
        "\n",
        "Create a dataframe df that holds the data with rows as passengers and columns as attributes (e.g., age, sex, fare, survived).\n",
        "\n"
      ],
      "metadata": {
        "id": "bE5Cd58z9elv"
      }
    },
    {
      "cell_type": "code",
      "source": [
        "# Load Titanic dataset\n",
        "df = sns.load_dataset('titanic')"
      ],
      "metadata": {
        "id": "b-5Kr_9b4LMi"
      },
      "execution_count": 13,
      "outputs": []
    },
    {
      "cell_type": "markdown",
      "source": [
        "Explore the dataset\n",
        "\n",
        "df.info() shows data types and missing values.\n",
        "\n",
        "df.describe() provides summary statistics like mean, min, max, etc.\n",
        "\n",
        "df.head() displays the first 5 rows, giving a sense of what data looks like."
      ],
      "metadata": {
        "id": "huPVtJP_-B7I"
      }
    },
    {
      "cell_type": "code",
      "source": [
        "df.info()\n",
        "df.describe()\n",
        "df.head()\n"
      ],
      "metadata": {
        "id": "NXu8Z1RX4Ql_"
      },
      "execution_count": null,
      "outputs": []
    },
    {
      "cell_type": "markdown",
      "source": [
        "**2. Data Cleaning.**\n",
        "\n",
        "Drop redundant columns like alivee.\n",
        "\n",
        "Drop columns with too many missing values like deck\n",
        "\n",
        "\n"
      ],
      "metadata": {
        "id": "v88zffQH-6Us"
      }
    },
    {
      "cell_type": "code",
      "source": [
        "df.drop(columns=['deck', 'embark_town', 'alive', 'class', 'who', 'adult_male'], inplace=True)\n",
        "\n",
        "df['age'] = df['age'].fillna(df['age'].median())\n",
        "df['embarked'] = df['embarked'].fillna(df['embarked'].mode()[0])"
      ],
      "metadata": {
        "id": "jxdLKbwM-wZR"
      },
      "execution_count": 15,
      "outputs": []
    },
    {
      "cell_type": "markdown",
      "source": [
        "**3. Feature selection and encoding.**\n",
        "\n",
        "Chosen features are likely to affect survival:\n",
        "\n",
        "Target Variable: y = df['survived'] — this is the column we're trying to predict.\n",
        "\n",
        "LabelEncoder converts strings like 'male', 'female' into numbers (e.g., 0 and 1)."
      ],
      "metadata": {
        "id": "aR8Zj5le_JCa"
      }
    },
    {
      "cell_type": "code",
      "source": [
        "from sklearn.preprocessing import LabelEncoder\n",
        "\n",
        "# Select relevant features\n",
        "features = ['pclass', 'sex', 'age', 'sibsp', 'parch', 'fare', 'embarked']\n",
        "X = df[features]\n",
        "y = df['survived']\n",
        "\n",
        "# Encode categorical features\n",
        "X = X.copy()\n",
        "le = LabelEncoder()\n",
        "X['sex'] = le.fit_transform(X['sex'])\n",
        "X['embarked'] = le.fit_transform(X['embarked'])\n"
      ],
      "metadata": {
        "id": "LUlZnEnj4TAl"
      },
      "execution_count": 16,
      "outputs": []
    },
    {
      "cell_type": "markdown",
      "source": [
        "**4. Data Splitting**\n",
        "\n",
        "X is the feature set and y the target variable.\n",
        "\n",
        "Training Set: 80% of the data is used to fit the model.\n",
        "\n",
        "Testing Set: 20% of the data is reserved to evaluate the model's performance.\n",
        "\n",
        "\n"
      ],
      "metadata": {
        "id": "EO-P6vvK_aY9"
      }
    },
    {
      "cell_type": "code",
      "source": [
        "from sklearn.model_selection import train_test_split\n",
        "\n",
        "X_train, X_test, y_train, y_test = train_test_split(X, y, test_size=0.2, random_state=42)\n"
      ],
      "metadata": {
        "id": "fHGddffy4lY1"
      },
      "execution_count": 17,
      "outputs": []
    },
    {
      "cell_type": "markdown",
      "source": [
        "**5. Model Training with Logistic Regression**\n",
        "\n",
        "A logistic regression model is instantiated and fitted to the training data:"
      ],
      "metadata": {
        "id": "uqCXCW0K_hmx"
      }
    },
    {
      "cell_type": "code",
      "source": [
        "from sklearn.linear_model import LogisticRegression\n",
        "\n",
        "model = LogisticRegression(max_iter=1000)\n",
        "model.fit(X_train, y_train)\n"
      ],
      "metadata": {
        "id": "RjQXYheK4n4j"
      },
      "execution_count": null,
      "outputs": []
    },
    {
      "cell_type": "markdown",
      "source": [
        "**6. Model Evaluation**"
      ],
      "metadata": {
        "id": "v2lp51AK_qtA"
      }
    },
    {
      "cell_type": "code",
      "source": [
        "from sklearn.metrics import accuracy_score, confusion_matrix, classification_report\n",
        "\n",
        "y_pred = model.predict(X_test)\n",
        "\n",
        "print(\"Accuracy:\", accuracy_score(y_test, y_pred))\n",
        "print(confusion_matrix(y_test, y_pred))\n",
        "print(classification_report(y_test, y_pred))\n"
      ],
      "metadata": {
        "id": "bCWGpj5N4pOQ"
      },
      "execution_count": null,
      "outputs": []
    }
  ]
}